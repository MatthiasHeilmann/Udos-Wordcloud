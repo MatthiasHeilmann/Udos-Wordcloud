{
 "cells": [
  {
   "cell_type": "code",
   "execution_count": 7,
   "metadata": {},
   "outputs": [
    {
     "name": "stdout",
     "output_type": "stream",
     "text": [
      "https://api.nytimes.com/svc/archive/v1/1963/6.json?api-key=hTLGygty2Sj5IB368rcArA63Xu29hW2r\n"
     ]
    }
   ],
   "source": [
    "## Fetch\n",
    "\n",
    "import requests\n",
    "import json\n",
    "from project_secrets import nyt_secrets\n",
    "\n",
    "year = 1963\n",
    "month = 6\n",
    "apiKey = nyt_secrets[\"API_KEY\"]\n",
    "\n",
    "requestUrl = f\"https://api.nytimes.com/svc/archive/v1/{year}/{month}.json?api-key={apiKey}\"\n",
    "\n",
    "print(requestUrl)\n",
    "res = requests.get(requestUrl)\n",
    "obj = json.loads(res.text)"
   ]
  },
  {
   "cell_type": "code",
   "execution_count": 8,
   "metadata": {},
   "outputs": [
    {
     "data": {
      "application/vnd.jupyter.widget-view+json": {
       "model_id": "759b941547bc40af8db92f4bd67966ad",
       "version_major": 2,
       "version_minor": 0
      },
      "text/plain": [
       "Going through articles:   0%|          | 0/12177 [00:00<?, ?it/s]"
      ]
     },
     "metadata": {},
     "output_type": "display_data"
    }
   ],
   "source": [
    "## Parse article\n",
    "\n",
    "from multiprocessing import Pool, Manager\n",
    "from tqdm.notebook import tqdm\n",
    "from modules.lang_utils import parseArticle\n",
    "\n",
    "docs = obj[\"response\"][\"docs\"]\n",
    "\n",
    "article_word_count = []\n",
    "\n",
    "with Manager() as smm:\n",
    "    sl = smm.list()\n",
    "    sl.extend(docs)\n",
    "    with Pool(processes=10) as p:\n",
    "        with tqdm(total=len(sl), desc=\"Going through articles\") as pbar:\n",
    "            for res in p.imap_unordered(parseArticle, sl, chunksize=10):\n",
    "                article_word_count.append(res)\n",
    "                pbar.update()"
   ]
  },
  {
   "cell_type": "code",
   "execution_count": 9,
   "metadata": {},
   "outputs": [],
   "source": [
    "## Save results to file for testing\n",
    "\n",
    "# with open(f\"./testfiles/result_{year}_{month}.json\", \"w\", encoding=\"utf-8\") as json_file:\n",
    "#    json_file.write(json.dumps(article_word_count, indent=\"\\t\"))"
   ]
  },
  {
   "cell_type": "code",
   "execution_count": 10,
   "metadata": {},
   "outputs": [
    {
     "ename": "ImportError",
     "evalue": "cannot import name 'create_article_in_db' from 'modules.db_utils' (c:\\Users\\Matth\\UdosWordCloud\\Scraper\\modules\\db_utils.py)",
     "output_type": "error",
     "traceback": [
      "\u001b[1;31m---------------------------------------------------------------------------\u001b[0m",
      "\u001b[1;31mImportError\u001b[0m                               Traceback (most recent call last)",
      "\u001b[1;32mc:\\Users\\Matth\\UdosWordCloud\\Scraper\\scraper.ipynb Zelle 4\u001b[0m line \u001b[0;36m3\n\u001b[0;32m      <a href='vscode-notebook-cell:/c%3A/Users/Matth/UdosWordCloud/Scraper/scraper.ipynb#W4sZmlsZQ%3D%3D?line=0'>1</a>\u001b[0m \u001b[39mimport\u001b[39;00m \u001b[39mmysql\u001b[39;00m\u001b[39m.\u001b[39;00m\u001b[39mconnector\u001b[39;00m\n\u001b[0;32m      <a href='vscode-notebook-cell:/c%3A/Users/Matth/UdosWordCloud/Scraper/scraper.ipynb#W4sZmlsZQ%3D%3D?line=1'>2</a>\u001b[0m \u001b[39mfrom\u001b[39;00m \u001b[39mproject_secrets\u001b[39;00m \u001b[39mimport\u001b[39;00m db_secrets\n\u001b[1;32m----> <a href='vscode-notebook-cell:/c%3A/Users/Matth/UdosWordCloud/Scraper/scraper.ipynb#W4sZmlsZQ%3D%3D?line=2'>3</a>\u001b[0m \u001b[39mfrom\u001b[39;00m \u001b[39mmodules\u001b[39;00m\u001b[39m.\u001b[39;00m\u001b[39mdb_utils\u001b[39;00m \u001b[39mimport\u001b[39;00m create_article_in_db\n\u001b[0;32m      <a href='vscode-notebook-cell:/c%3A/Users/Matth/UdosWordCloud/Scraper/scraper.ipynb#W4sZmlsZQ%3D%3D?line=4'>5</a>\u001b[0m db_host \u001b[39m=\u001b[39m db_secrets[\u001b[39m\"\u001b[39m\u001b[39mHOST\u001b[39m\u001b[39m\"\u001b[39m]\n\u001b[0;32m      <a href='vscode-notebook-cell:/c%3A/Users/Matth/UdosWordCloud/Scraper/scraper.ipynb#W4sZmlsZQ%3D%3D?line=5'>6</a>\u001b[0m db_user \u001b[39m=\u001b[39m db_secrets[\u001b[39m\"\u001b[39m\u001b[39mUSER\u001b[39m\u001b[39m\"\u001b[39m]\n",
      "\u001b[1;31mImportError\u001b[0m: cannot import name 'create_article_in_db' from 'modules.db_utils' (c:\\Users\\Matth\\UdosWordCloud\\Scraper\\modules\\db_utils.py)"
     ]
    }
   ],
   "source": [
    "import mysql.connector\n",
    "from project_secrets import db_secrets\n",
    "from modules.db_utils import create_article_in_db\n",
    "\n",
    "db_host = db_secrets[\"HOST\"]\n",
    "db_user = db_secrets[\"USER\"]\n",
    "db_password = db_secrets[\"PASSWORD\"]\n",
    "db_database = \"udocloud\"\n",
    "\n",
    "mydb = mysql.connector.connect(\n",
    "    host=db_host,\n",
    "    user=db_user,\n",
    "    password=db_password,\n",
    "    database=db_database\n",
    ")\n",
    "\n",
    "for article in article_word_count:\n",
    "    create_article_in_db(article,mydb)"
   ]
  }
 ],
 "metadata": {
  "kernelspec": {
   "display_name": "UdoScraper",
   "language": "python",
   "name": "python3"
  },
  "language_info": {
   "codemirror_mode": {
    "name": "ipython",
    "version": 3
   },
   "file_extension": ".py",
   "mimetype": "text/x-python",
   "name": "python",
   "nbconvert_exporter": "python",
   "pygments_lexer": "ipython3",
   "version": "3.10.1"
  }
 },
 "nbformat": 4,
 "nbformat_minor": 2
}
