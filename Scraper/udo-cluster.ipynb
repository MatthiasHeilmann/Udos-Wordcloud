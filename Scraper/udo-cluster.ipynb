{
 "cells": [
  {
   "cell_type": "markdown",
   "metadata": {},
   "source": []
  },
  {
   "cell_type": "code",
   "execution_count": 1,
   "metadata": {
    "ExecuteTime": {
     "end_time": "2023-11-05T18:58:16.236163500Z",
     "start_time": "2023-11-05T18:58:13.949350600Z"
    }
   },
   "outputs": [],
   "source": [
    "## Initialize\n",
    "\n",
    "apiKey = \"hTLGygty2Sj5IB368rcArA63Xu29hW2r\"\n",
    "archiveUrl = f\"https://api.nytimes.com/svc/archive/v1/#1/#2.json?api-key={apiKey}\"\n",
    "\n",
    "# Example text\n",
    "text = \"German Chancellor Angela Merkel died in 1936 in New York. She got shot by a mysterious terrorist, terror, terrorism\""
   ]
  },
  {
   "cell_type": "code",
   "execution_count": 2,
   "metadata": {
    "ExecuteTime": {
     "end_time": "2023-11-05T18:58:18.994163200Z",
     "start_time": "2023-11-05T18:58:16.238165Z"
    }
   },
   "outputs": [
    {
     "name": "stdout",
     "output_type": "stream",
     "text": [
      "https://api.nytimes.com/svc/archive/v1/1963/10.json?api-key=hTLGygty2Sj5IB368rcArA63Xu29hW2r\n"
     ]
    }
   ],
   "source": [
    "## Fetch\n",
    "import requests\n",
    "import json\n",
    "\n",
    "requestUrl = archiveUrl.replace(\"#1\", \"1963\").replace(\"#2\", \"10\")\n",
    "print(requestUrl)\n",
    "res = requests.get(requestUrl)\n",
    "obj = json.loads(res.text)"
   ]
  },
  {
   "cell_type": "code",
   "execution_count": 3,
   "metadata": {
    "ExecuteTime": {
     "start_time": "2023-11-05T19:01:36.217330200Z"
    },
    "collapsed": false,
    "is_executing": true
   },
   "outputs": [
    {
     "data": {
      "application/vnd.jupyter.widget-view+json": {
       "model_id": "cab54e468d624877bcdbade26a11bb70",
       "version_major": 2,
       "version_minor": 0
      },
      "text/plain": [
       "Going through articles:   0%|          | 0/11585 [00:00<?, ?it/s]"
      ]
     },
     "metadata": {},
     "output_type": "display_data"
    }
   ],
   "source": [
    "## Search\n",
    "from multiprocessing import Pool\n",
    "from tqdm.notebook import tqdm\n",
    "import utils\n",
    "\n",
    "articles = list(obj[\"response\"][\"docs\"])\n",
    "articleWordCount = []\n",
    "# Most optimal amount of processes may varie depending on your system\n",
    "# Last test gave me 1 min 20 seconds for loading spacy. Ok I guess.\n",
    "# But also ~3 min to find all the words in Oktober 1963. Why is it worse?\n",
    "with Pool(processes=3) as p:\n",
    "    with tqdm(total=len(articles), desc=\"Going through articles\") as pbar:\n",
    "        for res in p.imap_unordered(utils.parseArticle, articles):\n",
    "            articleWordCount.append(res)\n",
    "            pbar.update()"
   ]
  },
  {
   "cell_type": "code",
   "execution_count": 4,
   "metadata": {},
   "outputs": [],
   "source": [
    "#There to compare different results of words\n",
    "def getWords(article):\n",
    "    return list(article[\"wordCount\"].keys())\n",
    "def flat(ll):\n",
    "    ret = []\n",
    "    for l in ll:\n",
    "        ret.extend(l)\n",
    "    return list(set(ret))\n",
    "\n",
    "words = flat(list(map(lambda a: getWords(a), articleWordCount)))\n",
    "words = sorted(words)\n",
    "with open(\"./testfiles/result2.json\", \"w\", encoding=\"utf-8\") as json_file:\n",
    "    json_file.write(json.dumps(words, indent=\"\\t\"))"
   ]
  },
  {
   "cell_type": "code",
   "execution_count": 5,
   "metadata": {
    "ExecuteTime": {
     "end_time": "2023-11-05T22:51:09.660843Z",
     "start_time": "2023-11-05T22:51:07.913145200Z"
    },
    "collapsed": false
   },
   "outputs": [],
   "source": [
    "## Save results for testing\n",
    "\n",
    "with open(\"./testfiles/articles.json\", \"w\", encoding=\"utf-8\") as json_file:\n",
    "    json_file.write(json.dumps(obj, indent=\"\\t\"))\n",
    "#with open(\"./testfiles/result.json\", \"w\", encoding=\"utf-8\") as json_file:\n",
    "#    json_file.write(json.dumps(articleWordCount, indent=\"\\t\"))"
   ]
  },
  {
   "cell_type": "code",
   "execution_count": 6,
   "metadata": {},
   "outputs": [
    {
     "name": "stdout",
     "output_type": "stream",
     "text": [
      "undefined\n",
      "Family/Style\n"
     ]
    }
   ],
   "source": [
    "groups = {}\n",
    "\n",
    "def group_by_topic(doc_json: dict):\n",
    "    groups = {}\n",
    "    for index, doc in enumerate(doc_json):\n",
    "        topic = doc[\"news_desk\"]\n",
    "        if topic == \"None\" or topic == \"\":\n",
    "            topic = doc[\"section_name\"]\n",
    "            if topic == \"Archives\":\n",
    "                if doc[\"abstract\"] != \"\":\n",
    "                    #print(doc[\"abstract\"])\n",
    "                    #print(classification)\n",
    "                    topic = \"undefined\"#classifier(doc[\"abstract\"], candidate_labels[0:4])[\"labels\"][0]\n",
    "                    #print(topic)\n",
    "                else:\n",
    "                    continue\n",
    "\n",
    "        if topic in groups.keys():\n",
    "            groups[topic].append(doc[\"abstract\"])\n",
    "        else:\n",
    "            groups[topic] = [doc[\"abstract\"]]\n",
    "        # if index%1== 0:\n",
    "        #     print(index)\n",
    "        #     break\n",
    "    return groups\n",
    "\n",
    "groups = group_by_topic(obj[\"response\"][\"docs\"])\n",
    "for k in groups.keys():\n",
    "    print(k)"
   ]
  },
  {
   "cell_type": "code",
   "execution_count": 7,
   "metadata": {
    "ExecuteTime": {
     "start_time": "2023-11-05T18:59:35.127179Z"
    },
    "collapsed": false
   },
   "outputs": [
    {
     "name": "stdout",
     "output_type": "stream",
     "text": [
      "---------Taggers----------\n",
      "$: symbol, currency\n",
      "'': closing quotation mark\n",
      ",: punctuation mark, comma\n",
      "-LRB-: left round bracket\n",
      "-RRB-: right round bracket\n",
      ".: punctuation mark, sentence closer\n",
      ":: punctuation mark, colon or ellipsis\n",
      "ADD: email\n",
      "AFX: affix\n",
      "CC: conjunction, coordinating\n",
      "CD: cardinal number\n",
      "DT: determiner\n",
      "EX: existential there\n",
      "FW: foreign word\n",
      "HYPH: punctuation mark, hyphen\n",
      "IN: conjunction, subordinating or preposition\n",
      "JJ: adjective (English), other noun-modifier (Chinese)\n",
      "JJR: adjective, comparative\n",
      "JJS: adjective, superlative\n",
      "LS: list item marker\n",
      "MD: verb, modal auxiliary\n",
      "NFP: superfluous punctuation\n",
      "NN: noun, singular or mass\n",
      "NNP: noun, proper singular\n",
      "NNPS: noun, proper plural\n",
      "NNS: noun, plural\n",
      "PDT: predeterminer\n",
      "POS: possessive ending\n",
      "PRP: pronoun, personal\n",
      "PRP$: pronoun, possessive\n",
      "RB: adverb\n",
      "RBR: adverb, comparative\n",
      "RBS: adverb, superlative\n",
      "RP: adverb, particle\n",
      "SYM: symbol\n",
      "TO: infinitival \"to\"\n",
      "UH: interjection\n",
      "VB: verb, base form\n",
      "VBD: verb, past tense\n",
      "VBG: verb, gerund or present participle\n",
      "VBN: verb, past participle\n",
      "VBP: verb, non-3rd person singular present\n",
      "VBZ: verb, 3rd person singular present\n",
      "WDT: wh-determiner\n",
      "WP: wh-pronoun, personal\n",
      "WP$: wh-pronoun, possessive\n",
      "WRB: wh-adverb\n",
      "XX: unknown\n",
      "_SP: whitespace\n",
      "``: opening quotation mark\n"
     ]
    }
   ],
   "source": [
    "import spacy\n",
    "taggers = [{\n",
    "    \"name\": \"Taggers\",\n",
    "    \"values\": [\n",
    "        \"$\", \"''\", \",\", \"-LRB-\", \"-RRB-\", \".\", \":\", \"ADD\", \"AFX\", \"CC\", \"CD\", \"DT\", \"EX\", \"FW\", \"HYPH\", \"IN\", \"JJ\", \"JJR\", \"JJS\", \"LS\", \"MD\", \"NFP\", \"NN\", \"NNP\", \"NNPS\", \"NNS\", \"PDT\", \"POS\", \"PRP\", \"PRP$\", \"RB\", \"RBR\", \"RBS\", \"RP\", \"SYM\", \"TO\", \"UH\", \"VB\", \"VBD\", \"VBG\", \"VBN\", \"VBP\", \"VBZ\", \"WDT\", \"WP\", \"WP$\", \"WRB\", \"XX\", \"_SP\", \"``\"\n",
    "    ]\n",
    "}]\n",
    "\n",
    "for tagger in taggers:\n",
    "    print(f\"---------{tagger['name']}----------\")\n",
    "    for tag in tagger[\"values\"]:\n",
    "        print(f\"{tag}: {spacy.explain(tag)}\")"
   ]
  },
  {
   "cell_type": "code",
   "execution_count": null,
   "metadata": {},
   "outputs": [
    {
     "name": "stdout",
     "output_type": "stream",
     "text": [
      "German Chancellor Angela Merkel died in 1936 in New York. She got shot by a mysterious terrorist, terror, terrorism\n",
      "German, PROPN, False, False\n",
      "Chancellor, PROPN, False, False\n",
      "Angela Merkel, PROPN, False, False\n",
      "die, VERB, False, False\n",
      "in, ADP, True, False\n",
      "1936, NUM, False, False\n",
      "in, ADP, True, False\n",
      "New York, PROPN, False, False\n",
      "., PUNCT, False, True\n",
      "she, PRON, True, False\n",
      "get, VERB, False, False\n",
      "shoot, VERB, False, False\n",
      "by, ADP, True, False\n",
      "a, DET, True, False\n",
      "mysterious, ADJ, False, False\n",
      "terrorist, NOUN, False, False\n",
      ",, PUNCT, False, True\n",
      "terror, NOUN, False, False\n",
      ",, PUNCT, False, True\n",
      "terrorism, NOUN, False, False\n"
     ]
    }
   ],
   "source": [
    "import utils\n",
    "\n",
    "t = \"I ate food grasiously. He has eaten. She eats. They eat\\nThere was terror. Terrorism is bad. There were terrorists.\"\n",
    "lemmas = utils.get(text)\n",
    "print(lemmas)\n",
    "for l in lemmas:\n",
    "    print(f\"{l.lemma_}, {l.pos_}, {l.is_stop}, {l.is_punct}\")"
   ]
  }
 ],
 "metadata": {
  "kernelspec": {
   "display_name": "Python 3",
   "language": "python",
   "name": "python3"
  },
  "language_info": {
   "codemirror_mode": {
    "name": "ipython",
    "version": 3
   },
   "file_extension": ".py",
   "mimetype": "text/x-python",
   "name": "python",
   "nbconvert_exporter": "python",
   "pygments_lexer": "ipython3",
   "version": "3.11.0"
  }
 },
 "nbformat": 4,
 "nbformat_minor": 2
}
