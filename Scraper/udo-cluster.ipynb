{
 "cells": [
  {
   "cell_type": "markdown",
   "metadata": {},
   "source": []
  },
  {
   "cell_type": "code",
   "execution_count": 7,
   "metadata": {
    "ExecuteTime": {
     "end_time": "2023-11-15T14:59:03.224997800Z",
     "start_time": "2023-11-15T14:59:03.217128900Z"
    }
   },
   "outputs": [],
   "source": [
    "## Initialize\n",
    "\n",
    "apiKey = \"hTLGygty2Sj5IB368rcArA63Xu29hW2r\"\n",
    "archiveUrl = f\"https://api.nytimes.com/svc/archive/v1/#1/#2.json?api-key={apiKey}\"\n",
    "\n",
    "# Example text\n",
    "text = \"German Chancellor Angela Merkel died in 1936 in New York. She got shot by a mysterious terrorist, terror, terrorism\""
   ]
  },
  {
   "cell_type": "code",
   "execution_count": 8,
   "metadata": {
    "ExecuteTime": {
     "end_time": "2023-11-15T14:59:09.457025300Z",
     "start_time": "2023-11-15T14:59:03.823916500Z"
    }
   },
   "outputs": [
    {
     "name": "stdout",
     "output_type": "stream",
     "text": [
      "https://api.nytimes.com/svc/archive/v1/1963/10.json?api-key=hTLGygty2Sj5IB368rcArA63Xu29hW2r\n"
     ]
    }
   ],
   "source": [
    "## Fetch\n",
    "import requests\n",
    "import json\n",
    "\n",
    "year = 1963\n",
    "month = 10\n",
    "\n",
    "requestUrl = archiveUrl.replace(\"#1\", f\"{year}\").replace(\"#2\", f\"{month}\")\n",
    "print(requestUrl)\n",
    "res = requests.get(requestUrl)\n",
    "obj = json.loads(res.text)"
   ]
  },
  {
   "cell_type": "code",
   "execution_count": 9,
   "metadata": {
    "ExecuteTime": {
     "end_time": "2023-11-15T15:01:44.657036800Z",
     "start_time": "2023-11-15T14:59:09.459531200Z"
    },
    "collapsed": false
   },
   "outputs": [
    {
     "data": {
      "application/vnd.jupyter.widget-view+json": {
       "model_id": "58e12af1f80e4309a8417bd2af19be05",
       "version_major": 2,
       "version_minor": 0
      },
      "text/plain": [
       "Going through articles:   0%|          | 0/11585 [00:00<?, ?it/s]"
      ]
     },
     "metadata": {},
     "output_type": "display_data"
    }
   ],
   "source": [
    "## Search\n",
    "from multiprocessing import Pool\n",
    "from tqdm.notebook import tqdm\n",
    "from utils import parseArticle\n",
    "\n",
    "docs = obj[\"response\"][\"docs\"]\n",
    "\n",
    "# https://stackoverflow.com/questions/5549190/is-shared-readonly-data-copied-to-different-processes-for-multiprocessing/5550156#5550156\n",
    "# https://docs.python.org/3/library/multiprocessing.shared_memory.html\n",
    "# python feed pool with shared memory\n",
    "# https://stackoverflow.com/questions/77502344/how-do-shareablelists-actually-work-when-multiprocessing-in-python\n",
    "\n",
    "articleWordCount = []\n",
    "# Brudi das zerstört meinen RAM komplett\n",
    "with Pool(processes=3) as p:\n",
    "    with tqdm(total=len(docs), desc=\"Going through articles\") as pbar:\n",
    "        for res in p.imap_unordered(parseArticle, docs, chunksize=10):\n",
    "            articleWordCount.append(res)\n",
    "            pbar.update()\n",
    "        # Use this to test topic fill\n",
    "        #for res in p.imap_unordered(utils.test, docs):\n",
    "        #    print(res)\n",
    "        #    pbar.update() \n"
   ]
  },
  {
   "cell_type": "code",
   "execution_count": null,
   "metadata": {},
   "outputs": [],
   "source": [
    "## Save results for testing\n",
    "\n",
    "#with open(\"./testfiles/articles.json\", \"w\", encoding=\"utf-8\") as json_file:\n",
    "#    json_file.write(json.dumps(obj, indent=\"\\t\"))\n",
    "with open(f\"./testfiles/result_{year}_{month}.json\", \"w\", encoding=\"utf-8\") as json_file:\n",
    "    json_file.write(json.dumps(articleWordCount, indent=\"\\t\"))"
   ]
  },
  {
   "cell_type": "code",
   "execution_count": 6,
   "metadata": {},
   "outputs": [
    {
     "name": "stdout",
     "output_type": "stream",
     "text": [
      "None\n",
      "None\n",
      "None\n",
      "None\n",
      "None\n",
      "None\n",
      "None\n",
      "None\n",
      "None\n",
      "None\n",
      "[[0. 0. 0. 0. 0. 0. 0. 0. 0. 0.]\n",
      " [1. 1. 1. 1. 1. 1. 1. 1. 1. 1.]\n",
      " [2. 2. 2. 2. 2. 2. 2. 2. 2. 2.]\n",
      " [3. 3. 3. 3. 3. 3. 3. 3. 3. 3.]\n",
      " [4. 4. 4. 4. 4. 4. 4. 4. 4. 4.]\n",
      " [5. 5. 5. 5. 5. 5. 5. 5. 5. 5.]\n",
      " [6. 6. 6. 6. 6. 6. 6. 6. 6. 6.]\n",
      " [7. 7. 7. 7. 7. 7. 7. 7. 7. 7.]\n",
      " [8. 8. 8. 8. 8. 8. 8. 8. 8. 8.]\n",
      " [9. 9. 9. 9. 9. 9. 9. 9. 9. 9.]]\n"
     ]
    }
   ],
   "source": [
    "# wtff\n",
    "import multiprocessing\n",
    "from tqdm.notebook import tqdm\n",
    "import ctypes\n",
    "import numpy as np\n",
    "from utils import init, my_func\n",
    "\n",
    "#-- edited 2015-05-01: the assert check below checks the wrong thing\n",
    "#   with recent versions of Numpy/multiprocessing. That no copy is made\n",
    "#   is indicated by the fact that the program prints the output shown below.\n",
    "## No copy was made\n",
    "##assert shared_array.base.base is shared_array_base.get_obj()\n",
    "l = []\n",
    "for i in range(10):\n",
    "    l.append({\"a\": i, \"b\": {\"c\": i**2}})\n",
    "    \n",
    "shared_array_base = multiprocessing.Array(l)\n",
    "docs = range(10)\n",
    "with multiprocessing.Pool(processes=3, initializer=init, initargs=(shared_array_base,)) as p:\n",
    "    with tqdm(total=len(docs), desc=\"Going through articles\") as pbar:\n",
    "        for res in p.imap_unordered(my_func, docs):\n",
    "            pbar.update()\n",
    "\n",
    "shared_array = np.ctypeslib.as_array(shared_array_base.get_obj())\n",
    "shared_array = shared_array.reshape(10, 10)\n",
    "print(shared_array)"
   ]
  },
  {
   "cell_type": "code",
   "execution_count": 6,
   "metadata": {},
   "outputs": [
    {
     "name": "stdout",
     "output_type": "stream",
     "text": [
      "[{'a': 0, 'b': {'c': 0}}, {'a': 1, 'b': {'c': 1}}, {'a': 2, 'b': {'c': 4}}, {'a': 3, 'b': {'c': 9}}, {'a': 4, 'b': {'c': 16}}, {'a': 5, 'b': {'c': 25}}, {'a': 6, 'b': {'c': 36}}, {'a': 7, 'b': {'c': 49}}, {'a': 8, 'b': {'c': 64}}, {'a': 9, 'b': {'c': 81}}]\n",
      "[{'a': 0, 'b': {'c': 0}}, {'a': 1, 'b': {'c': 1}}, {'a': 2, 'b': {'c': 4}}, {'a': 3, 'b': {'c': 9}}, {'a': 4, 'b': {'c': 16}}, {'a': 5, 'b': {'c': 25}}, {'a': 6, 'b': {'c': 36}}, {'a': 7, 'b': {'c': 49}}, {'a': 8, 'b': {'c': 64}}, {'a': 9, 'b': {'c': 81}}]\n"
     ]
    },
    {
     "data": {
      "application/vnd.jupyter.widget-view+json": {
       "model_id": "9903fe1d30064d83b850121730c9e493",
       "version_major": 2,
       "version_minor": 0
      },
      "text/plain": [
       "Going through articles:   0%|          | 0/10 [00:00<?, ?it/s]"
      ]
     },
     "metadata": {},
     "output_type": "display_data"
    },
    {
     "name": "stdout",
     "output_type": "stream",
     "text": [
      "why? {'a': 1, 'b': {'c': 1}}, []\n",
      "why? {'a': 2, 'b': {'c': 4}}, []\n",
      "why? {'a': 3, 'b': {'c': 9}}, []\n",
      "why? {'a': 4, 'b': {'c': 16}}, []\n",
      "why? {'a': 5, 'b': {'c': 25}}, []\n",
      "why? {'a': 6, 'b': {'c': 36}}, []\n",
      "why? {'a': 7, 'b': {'c': 49}}, []\n",
      "why? {'a': 8, 'b': {'c': 64}}, []\n",
      "why? {'a': 9, 'b': {'c': 81}}, []\n",
      "why? {'a': 0, 'b': {'c': 0}}, []\n"
     ]
    }
   ],
   "source": [
    "# Test shared mem\n",
    "from multiprocessing import Pool, Manager\n",
    "from multiprocessing.shared_memory import SharedMemory\n",
    "from tqdm.notebook import tqdm\n",
    "from utils import *\n",
    "\n",
    "l = []\n",
    "for i in range(10):\n",
    "    l.append({\"a\": i, \"b\": {\"c\": i**2}})\n",
    "\n",
    "with Manager() as smm:\n",
    "    sl = smm.list()\n",
    "    sl.extend(l)\n",
    "    print(setArr(l))\n",
    "    print(getArr())\n",
    "    with Pool(processes=2) as p:\n",
    "        with tqdm(total=len(sl), desc=\"Going through articles\") as pbar:\n",
    "            for res in p.imap_unordered(mult, sl, chunksize=1):\n",
    "                print(res)\n",
    "                pbar.update()"
   ]
  },
  {
   "cell_type": "code",
   "execution_count": 4,
   "metadata": {},
   "outputs": [],
   "source": [
    "#There to compare different results of words\n",
    "def getWords(article):\n",
    "    return list(article[\"wordCount\"].keys())\n",
    "def flat(ll):\n",
    "    ret = []\n",
    "    for l in ll:\n",
    "        ret.extend(l)\n",
    "    return list(set(ret))\n",
    "\n",
    "words = flat(list(map(lambda a: getWords(a), articleWordCount)))\n",
    "words = sorted(words)\n",
    "with open(\"./testfiles/result2.json\", \"w\", encoding=\"utf-8\") as json_file:\n",
    "    json_file.write(json.dumps(words, indent=\"\\t\"))"
   ]
  },
  {
   "cell_type": "code",
   "execution_count": 7,
   "metadata": {
    "ExecuteTime": {
     "start_time": "2023-11-05T18:59:35.127179Z"
    },
    "collapsed": false
   },
   "outputs": [
    {
     "name": "stdout",
     "output_type": "stream",
     "text": [
      "---------Taggers----------\n",
      "$: symbol, currency\n",
      "'': closing quotation mark\n",
      ",: punctuation mark, comma\n",
      "-LRB-: left round bracket\n",
      "-RRB-: right round bracket\n",
      ".: punctuation mark, sentence closer\n",
      ":: punctuation mark, colon or ellipsis\n",
      "ADD: email\n",
      "AFX: affix\n",
      "CC: conjunction, coordinating\n",
      "CD: cardinal number\n",
      "DT: determiner\n",
      "EX: existential there\n",
      "FW: foreign word\n",
      "HYPH: punctuation mark, hyphen\n",
      "IN: conjunction, subordinating or preposition\n",
      "JJ: adjective (English), other noun-modifier (Chinese)\n",
      "JJR: adjective, comparative\n",
      "JJS: adjective, superlative\n",
      "LS: list item marker\n",
      "MD: verb, modal auxiliary\n",
      "NFP: superfluous punctuation\n",
      "NN: noun, singular or mass\n",
      "NNP: noun, proper singular\n",
      "NNPS: noun, proper plural\n",
      "NNS: noun, plural\n",
      "PDT: predeterminer\n",
      "POS: possessive ending\n",
      "PRP: pronoun, personal\n",
      "PRP$: pronoun, possessive\n",
      "RB: adverb\n",
      "RBR: adverb, comparative\n",
      "RBS: adverb, superlative\n",
      "RP: adverb, particle\n",
      "SYM: symbol\n",
      "TO: infinitival \"to\"\n",
      "UH: interjection\n",
      "VB: verb, base form\n",
      "VBD: verb, past tense\n",
      "VBG: verb, gerund or present participle\n",
      "VBN: verb, past participle\n",
      "VBP: verb, non-3rd person singular present\n",
      "VBZ: verb, 3rd person singular present\n",
      "WDT: wh-determiner\n",
      "WP: wh-pronoun, personal\n",
      "WP$: wh-pronoun, possessive\n",
      "WRB: wh-adverb\n",
      "XX: unknown\n",
      "_SP: whitespace\n",
      "``: opening quotation mark\n"
     ]
    }
   ],
   "source": [
    "import spacy\n",
    "taggers = [{\n",
    "    \"name\": \"Taggers\",\n",
    "    \"values\": [\n",
    "        \"$\", \"''\", \",\", \"-LRB-\", \"-RRB-\", \".\", \":\", \"ADD\", \"AFX\", \"CC\", \"CD\", \"DT\", \"EX\", \"FW\", \"HYPH\", \"IN\", \"JJ\", \"JJR\", \"JJS\", \"LS\", \"MD\", \"NFP\", \"NN\", \"NNP\", \"NNPS\", \"NNS\", \"PDT\", \"POS\", \"PRP\", \"PRP$\", \"RB\", \"RBR\", \"RBS\", \"RP\", \"SYM\", \"TO\", \"UH\", \"VB\", \"VBD\", \"VBG\", \"VBN\", \"VBP\", \"VBZ\", \"WDT\", \"WP\", \"WP$\", \"WRB\", \"XX\", \"_SP\", \"``\"\n",
    "    ]\n",
    "}]\n",
    "\n",
    "for tagger in taggers:\n",
    "    print(f\"---------{tagger['name']}----------\")\n",
    "    for tag in tagger[\"values\"]:\n",
    "        print(f\"{tag}: {spacy.explain(tag)}\")"
   ]
  },
  {
   "cell_type": "code",
   "execution_count": null,
   "metadata": {},
   "outputs": [
    {
     "name": "stdout",
     "output_type": "stream",
     "text": [
      "German Chancellor Angela Merkel died in 1936 in New York. She got shot by a mysterious terrorist, terror, terrorism\n",
      "German, PROPN, False, False\n",
      "Chancellor, PROPN, False, False\n",
      "Angela Merkel, PROPN, False, False\n",
      "die, VERB, False, False\n",
      "in, ADP, True, False\n",
      "1936, NUM, False, False\n",
      "in, ADP, True, False\n",
      "New York, PROPN, False, False\n",
      "., PUNCT, False, True\n",
      "she, PRON, True, False\n",
      "get, VERB, False, False\n",
      "shoot, VERB, False, False\n",
      "by, ADP, True, False\n",
      "a, DET, True, False\n",
      "mysterious, ADJ, False, False\n",
      "terrorist, NOUN, False, False\n",
      ",, PUNCT, False, True\n",
      "terror, NOUN, False, False\n",
      ",, PUNCT, False, True\n",
      "terrorism, NOUN, False, False\n"
     ]
    }
   ],
   "source": [
    "import utils\n",
    "\n",
    "t = \"I ate food grasiously. He has eaten. She eats. They eat\\nThere was terror. Terrorism is bad. There were terrorists.\"\n",
    "lemmas = utils.get(text)\n",
    "print(lemmas)\n",
    "for l in lemmas:\n",
    "    print(f\"{l.lemma_}, {l.pos_}, {l.is_stop}, {l.is_punct}\")"
   ]
  }
 ],
 "metadata": {
  "kernelspec": {
   "display_name": "UdoScraper",
   "language": "python",
   "name": "python3"
  },
  "language_info": {
   "codemirror_mode": {
    "name": "ipython",
    "version": 3
   },
   "file_extension": ".py",
   "mimetype": "text/x-python",
   "name": "python",
   "nbconvert_exporter": "python",
   "pygments_lexer": "ipython3",
   "version": "3.11.0"
  }
 },
 "nbformat": 4,
 "nbformat_minor": 2
}
