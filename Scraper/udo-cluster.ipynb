{
 "cells": [
  {
   "cell_type": "markdown",
   "metadata": {},
   "source": []
  },
  {
   "cell_type": "code",
   "execution_count": 1,
   "metadata": {
    "ExecuteTime": {
     "end_time": "2023-11-15T14:59:03.224997800Z",
     "start_time": "2023-11-15T14:59:03.217128900Z"
    }
   },
   "outputs": [],
   "source": [
    "## Initialize\n",
    "\n",
    "apiKey = \"hTLGygty2Sj5IB368rcArA63Xu29hW2r\"\n",
    "archiveUrl = f\"https://api.nytimes.com/svc/archive/v1/#1/#2.json?api-key={apiKey}\"\n",
    "\n",
    "# Example text\n",
    "text = \"German Chancellor Angela Merkel died in 1936 in New York. She got shot by a mysterious terrorist, terror, terrorism\""
   ]
  },
  {
   "cell_type": "code",
   "execution_count": 2,
   "metadata": {
    "ExecuteTime": {
     "end_time": "2023-11-15T14:59:09.457025300Z",
     "start_time": "2023-11-15T14:59:03.823916500Z"
    }
   },
   "outputs": [
    {
     "name": "stdout",
     "output_type": "stream",
     "text": [
      "https://api.nytimes.com/svc/archive/v1/1963/10.json?api-key=hTLGygty2Sj5IB368rcArA63Xu29hW2r\n"
     ]
    }
   ],
   "source": [
    "## Fetch\n",
    "import requests\n",
    "import json\n",
    "\n",
    "requestUrl = archiveUrl.replace(\"#1\", \"1963\").replace(\"#2\", \"10\")\n",
    "print(requestUrl)\n",
    "res = requests.get(requestUrl)\n",
    "obj = json.loads(res.text)"
   ]
  },
  {
   "cell_type": "code",
   "execution_count": 23,
   "metadata": {
    "ExecuteTime": {
     "end_time": "2023-11-15T15:01:44.657036800Z",
     "start_time": "2023-11-15T14:59:09.459531200Z"
    },
    "collapsed": false
   },
   "outputs": [
    {
     "name": "stdout",
     "output_type": "stream",
     "text": [
      "<class 'list'>\n",
      "<class 'range'>\n"
     ]
    },
    {
     "ename": "TypeError",
     "evalue": "'>=' not supported between instances of 'list' and 'int'",
     "output_type": "error",
     "traceback": [
      "\u001b[1;31m---------------------------------------------------------------------------\u001b[0m",
      "\u001b[1;31mTypeError\u001b[0m                                 Traceback (most recent call last)",
      "\u001b[1;32mc:\\Users\\sean_\\OneDrive\\Dokumente\\Studium\\Big Data\\UdosWordCloud\\Scraper\\udo-cluster.ipynb Cell 4\u001b[0m line \u001b[0;36m1\n\u001b[0;32m     <a href='vscode-notebook-cell:/c%3A/Users/sean_/OneDrive/Dokumente/Studium/Big%20Data/UdosWordCloud/Scraper/udo-cluster.ipynb#W3sZmlsZQ%3D%3D?line=9'>10</a>\u001b[0m docs \u001b[39m=\u001b[39m obj[\u001b[39m\"\u001b[39m\u001b[39mresponse\u001b[39m\u001b[39m\"\u001b[39m][\u001b[39m\"\u001b[39m\u001b[39mdocs\u001b[39m\u001b[39m\"\u001b[39m]\n\u001b[0;32m     <a href='vscode-notebook-cell:/c%3A/Users/sean_/OneDrive/Dokumente/Studium/Big%20Data/UdosWordCloud/Scraper/udo-cluster.ipynb#W3sZmlsZQ%3D%3D?line=10'>11</a>\u001b[0m \u001b[39mwith\u001b[39;00m SharedMemoryManager() \u001b[39mas\u001b[39;00m smm:\n\u001b[0;32m     <a href='vscode-notebook-cell:/c%3A/Users/sean_/OneDrive/Dokumente/Studium/Big%20Data/UdosWordCloud/Scraper/udo-cluster.ipynb#W3sZmlsZQ%3D%3D?line=11'>12</a>\u001b[0m     \u001b[39m# https://stackoverflow.com/questions/5549190/is-shared-readonly-data-copied-to-different-processes-for-multiprocessing/5550156#5550156\u001b[39;00m\n\u001b[1;32m---> <a href='vscode-notebook-cell:/c%3A/Users/sean_/OneDrive/Dokumente/Studium/Big%20Data/UdosWordCloud/Scraper/udo-cluster.ipynb#W3sZmlsZQ%3D%3D?line=13'>14</a>\u001b[0m     shared_docs \u001b[39m=\u001b[39m smm\u001b[39m.\u001b[39;49mSharedMemory(docs)\n\u001b[0;32m     <a href='vscode-notebook-cell:/c%3A/Users/sean_/OneDrive/Dokumente/Studium/Big%20Data/UdosWordCloud/Scraper/udo-cluster.ipynb#W3sZmlsZQ%3D%3D?line=14'>15</a>\u001b[0m     articleWordCount \u001b[39m=\u001b[39m []\n\u001b[0;32m     <a href='vscode-notebook-cell:/c%3A/Users/sean_/OneDrive/Dokumente/Studium/Big%20Data/UdosWordCloud/Scraper/udo-cluster.ipynb#W3sZmlsZQ%3D%3D?line=15'>16</a>\u001b[0m     \u001b[39m# Most optimal amount of processes may varie depending on your system\u001b[39;00m\n\u001b[0;32m     <a href='vscode-notebook-cell:/c%3A/Users/sean_/OneDrive/Dokumente/Studium/Big%20Data/UdosWordCloud/Scraper/udo-cluster.ipynb#W3sZmlsZQ%3D%3D?line=16'>17</a>\u001b[0m     \u001b[39m# Last test gave me 1 min 20 seconds for loading spacy. Ok I guess.\u001b[39;00m\n\u001b[0;32m     <a href='vscode-notebook-cell:/c%3A/Users/sean_/OneDrive/Dokumente/Studium/Big%20Data/UdosWordCloud/Scraper/udo-cluster.ipynb#W3sZmlsZQ%3D%3D?line=17'>18</a>\u001b[0m     \u001b[39m# But also ~3 min to find all the words in Oktober 1963. Why is it worse?\u001b[39;00m\n",
      "File \u001b[1;32m~\\AppData\\Local\\Programs\\Python\\Python311\\Lib\\multiprocessing\\managers.py:1363\u001b[0m, in \u001b[0;36mSharedMemoryManager.SharedMemory\u001b[1;34m(self, size)\u001b[0m\n\u001b[0;32m   1360\u001b[0m \u001b[39m\u001b[39m\u001b[39m\"\"\"Returns a new SharedMemory instance with the specified size in\u001b[39;00m\n\u001b[0;32m   1361\u001b[0m \u001b[39mbytes, to be tracked by the manager.\"\"\"\u001b[39;00m\n\u001b[0;32m   1362\u001b[0m \u001b[39mwith\u001b[39;00m \u001b[39mself\u001b[39m\u001b[39m.\u001b[39m_Client(\u001b[39mself\u001b[39m\u001b[39m.\u001b[39m_address, authkey\u001b[39m=\u001b[39m\u001b[39mself\u001b[39m\u001b[39m.\u001b[39m_authkey) \u001b[39mas\u001b[39;00m conn:\n\u001b[1;32m-> 1363\u001b[0m     sms \u001b[39m=\u001b[39m shared_memory\u001b[39m.\u001b[39;49mSharedMemory(\u001b[39mNone\u001b[39;49;00m, create\u001b[39m=\u001b[39;49m\u001b[39mTrue\u001b[39;49;00m, size\u001b[39m=\u001b[39;49msize)\n\u001b[0;32m   1364\u001b[0m     \u001b[39mtry\u001b[39;00m:\n\u001b[0;32m   1365\u001b[0m         dispatch(conn, \u001b[39mNone\u001b[39;00m, \u001b[39m'\u001b[39m\u001b[39mtrack_segment\u001b[39m\u001b[39m'\u001b[39m, (sms\u001b[39m.\u001b[39mname,))\n",
      "File \u001b[1;32m~\\AppData\\Local\\Programs\\Python\\Python311\\Lib\\multiprocessing\\shared_memory.py:76\u001b[0m, in \u001b[0;36mSharedMemory.__init__\u001b[1;34m(self, name, create, size)\u001b[0m\n\u001b[0;32m     75\u001b[0m \u001b[39mdef\u001b[39;00m \u001b[39m__init__\u001b[39m(\u001b[39mself\u001b[39m, name\u001b[39m=\u001b[39m\u001b[39mNone\u001b[39;00m, create\u001b[39m=\u001b[39m\u001b[39mFalse\u001b[39;00m, size\u001b[39m=\u001b[39m\u001b[39m0\u001b[39m):\n\u001b[1;32m---> 76\u001b[0m     \u001b[39mif\u001b[39;00m \u001b[39mnot\u001b[39;00m size \u001b[39m>\u001b[39;49m\u001b[39m=\u001b[39;49m \u001b[39m0\u001b[39;49m:\n\u001b[0;32m     77\u001b[0m         \u001b[39mraise\u001b[39;00m \u001b[39mValueError\u001b[39;00m(\u001b[39m\"\u001b[39m\u001b[39m'\u001b[39m\u001b[39msize\u001b[39m\u001b[39m'\u001b[39m\u001b[39m must be a positive integer\u001b[39m\u001b[39m\"\u001b[39m)\n\u001b[0;32m     78\u001b[0m     \u001b[39mif\u001b[39;00m create:\n",
      "\u001b[1;31mTypeError\u001b[0m: '>=' not supported between instances of 'list' and 'int'"
     ]
    }
   ],
   "source": [
    "## Search\n",
    "from multiprocessing import Pool\n",
    "from tqdm.notebook import tqdm\n",
    "import utils\n",
    "from multiprocessing import Array\n",
    "from multiprocessing.managers import SharedMemoryManager\n",
    "\n",
    "print(type(obj[\"response\"][\"docs\"]))\n",
    "print(type(range(4)))\n",
    "docs = obj[\"response\"][\"docs\"]\n",
    "with SharedMemoryManager() as smm:\n",
    "    # https://stackoverflow.com/questions/5549190/is-shared-readonly-data-copied-to-different-processes-for-multiprocessing/5550156#5550156\n",
    "    # https://docs.python.org/3/library/multiprocessing.shared_memory.html\n",
    "    # python feed pool with shared memory\n",
    "    shared_docs = smm.SharedMemory(docs)\n",
    "    articleWordCount = []\n",
    "    # Brudi das zerstört meinen RAM komplett\n",
    "    with Pool(processes=2) as p:\n",
    "        with tqdm(total=len(shared_docs), desc=\"Going through articles\") as pbar:\n",
    "            for res in p.imap_unordered(utils.parseArticle, shared_docs, chunksize=10):\n",
    "                articleWordCount.append(res)\n",
    "                pbar.update()\n",
    "            # Use this to test topic fill\n",
    "            #for res in p.imap_unordered(utils.test, docs):\n",
    "            #    print(res)\n",
    "            #    pbar.update() \n"
   ]
  },
  {
   "cell_type": "code",
   "execution_count": 21,
   "metadata": {},
   "outputs": [
    {
     "name": "stdout",
     "output_type": "stream",
     "text": [
      "lmao\n",
      "\u0000\u0000\u0000\u0000\u0000\u0000\u0000\u0000\u0000\u0000\u0000\n",
      "lmao\n"
     ]
    }
   ],
   "source": [
    "from multiprocessing.shared_memory import SharedMemory\n",
    "from multiprocessing import Process\n",
    " \n",
    "# task executed in a child process\n",
    "def task():\n",
    "    # attach another shared memory block\n",
    "    sm = SharedMemory('MyMemory')\n",
    "    # store data in the first shared memory block\n",
    "    sm.buf[:11] = b'Hello world'\n",
    "    # close as no longer needed\n",
    "    sm.close()\n",
    "    \n",
    "print(\"lmao\")\n",
    "# create a shared memory\n",
    "shared_mem = SharedMemory(name='MyMemory', create=True, size=100)\n",
    "# create a child process\n",
    "process = Process(target=task)\n",
    "# start the child process\n",
    "process.start()\n",
    "# wait for the child process to finish\n",
    "process.join()\n",
    "# report the data in the shared memory\n",
    "print(bytes(shared_mem.buf[:11]).decode())\n",
    "# close the shared memory\n",
    "shared_mem.close()\n",
    "# release the shared memory\n",
    "shared_mem.unlink()\n",
    "print(\"lmao\")"
   ]
  },
  {
   "cell_type": "code",
   "execution_count": 4,
   "metadata": {},
   "outputs": [],
   "source": [
    "#There to compare different results of words\n",
    "def getWords(article):\n",
    "    return list(article[\"wordCount\"].keys())\n",
    "def flat(ll):\n",
    "    ret = []\n",
    "    for l in ll:\n",
    "        ret.extend(l)\n",
    "    return list(set(ret))\n",
    "\n",
    "words = flat(list(map(lambda a: getWords(a), articleWordCount)))\n",
    "words = sorted(words)\n",
    "with open(\"./testfiles/result2.json\", \"w\", encoding=\"utf-8\") as json_file:\n",
    "    json_file.write(json.dumps(words, indent=\"\\t\"))"
   ]
  },
  {
   "cell_type": "code",
   "execution_count": 4,
   "metadata": {
    "ExecuteTime": {
     "end_time": "2023-11-05T22:51:09.660843Z",
     "start_time": "2023-11-05T22:51:07.913145200Z"
    },
    "collapsed": false
   },
   "outputs": [],
   "source": [
    "## Save results for testing\n",
    "\n",
    "with open(\"./testfiles/articles.json\", \"w\", encoding=\"utf-8\") as json_file:\n",
    "    json_file.write(json.dumps(obj, indent=\"\\t\"))\n",
    "#with open(\"./testfiles/result.json\", \"w\", encoding=\"utf-8\") as json_file:\n",
    "#    json_file.write(json.dumps(articleWordCount, indent=\"\\t\"))"
   ]
  },
  {
   "cell_type": "code",
   "execution_count": 7,
   "metadata": {
    "ExecuteTime": {
     "start_time": "2023-11-05T18:59:35.127179Z"
    },
    "collapsed": false
   },
   "outputs": [
    {
     "name": "stdout",
     "output_type": "stream",
     "text": [
      "---------Taggers----------\n",
      "$: symbol, currency\n",
      "'': closing quotation mark\n",
      ",: punctuation mark, comma\n",
      "-LRB-: left round bracket\n",
      "-RRB-: right round bracket\n",
      ".: punctuation mark, sentence closer\n",
      ":: punctuation mark, colon or ellipsis\n",
      "ADD: email\n",
      "AFX: affix\n",
      "CC: conjunction, coordinating\n",
      "CD: cardinal number\n",
      "DT: determiner\n",
      "EX: existential there\n",
      "FW: foreign word\n",
      "HYPH: punctuation mark, hyphen\n",
      "IN: conjunction, subordinating or preposition\n",
      "JJ: adjective (English), other noun-modifier (Chinese)\n",
      "JJR: adjective, comparative\n",
      "JJS: adjective, superlative\n",
      "LS: list item marker\n",
      "MD: verb, modal auxiliary\n",
      "NFP: superfluous punctuation\n",
      "NN: noun, singular or mass\n",
      "NNP: noun, proper singular\n",
      "NNPS: noun, proper plural\n",
      "NNS: noun, plural\n",
      "PDT: predeterminer\n",
      "POS: possessive ending\n",
      "PRP: pronoun, personal\n",
      "PRP$: pronoun, possessive\n",
      "RB: adverb\n",
      "RBR: adverb, comparative\n",
      "RBS: adverb, superlative\n",
      "RP: adverb, particle\n",
      "SYM: symbol\n",
      "TO: infinitival \"to\"\n",
      "UH: interjection\n",
      "VB: verb, base form\n",
      "VBD: verb, past tense\n",
      "VBG: verb, gerund or present participle\n",
      "VBN: verb, past participle\n",
      "VBP: verb, non-3rd person singular present\n",
      "VBZ: verb, 3rd person singular present\n",
      "WDT: wh-determiner\n",
      "WP: wh-pronoun, personal\n",
      "WP$: wh-pronoun, possessive\n",
      "WRB: wh-adverb\n",
      "XX: unknown\n",
      "_SP: whitespace\n",
      "``: opening quotation mark\n"
     ]
    }
   ],
   "source": [
    "import spacy\n",
    "taggers = [{\n",
    "    \"name\": \"Taggers\",\n",
    "    \"values\": [\n",
    "        \"$\", \"''\", \",\", \"-LRB-\", \"-RRB-\", \".\", \":\", \"ADD\", \"AFX\", \"CC\", \"CD\", \"DT\", \"EX\", \"FW\", \"HYPH\", \"IN\", \"JJ\", \"JJR\", \"JJS\", \"LS\", \"MD\", \"NFP\", \"NN\", \"NNP\", \"NNPS\", \"NNS\", \"PDT\", \"POS\", \"PRP\", \"PRP$\", \"RB\", \"RBR\", \"RBS\", \"RP\", \"SYM\", \"TO\", \"UH\", \"VB\", \"VBD\", \"VBG\", \"VBN\", \"VBP\", \"VBZ\", \"WDT\", \"WP\", \"WP$\", \"WRB\", \"XX\", \"_SP\", \"``\"\n",
    "    ]\n",
    "}]\n",
    "\n",
    "for tagger in taggers:\n",
    "    print(f\"---------{tagger['name']}----------\")\n",
    "    for tag in tagger[\"values\"]:\n",
    "        print(f\"{tag}: {spacy.explain(tag)}\")"
   ]
  },
  {
   "cell_type": "code",
   "execution_count": null,
   "metadata": {},
   "outputs": [
    {
     "name": "stdout",
     "output_type": "stream",
     "text": [
      "German Chancellor Angela Merkel died in 1936 in New York. She got shot by a mysterious terrorist, terror, terrorism\n",
      "German, PROPN, False, False\n",
      "Chancellor, PROPN, False, False\n",
      "Angela Merkel, PROPN, False, False\n",
      "die, VERB, False, False\n",
      "in, ADP, True, False\n",
      "1936, NUM, False, False\n",
      "in, ADP, True, False\n",
      "New York, PROPN, False, False\n",
      "., PUNCT, False, True\n",
      "she, PRON, True, False\n",
      "get, VERB, False, False\n",
      "shoot, VERB, False, False\n",
      "by, ADP, True, False\n",
      "a, DET, True, False\n",
      "mysterious, ADJ, False, False\n",
      "terrorist, NOUN, False, False\n",
      ",, PUNCT, False, True\n",
      "terror, NOUN, False, False\n",
      ",, PUNCT, False, True\n",
      "terrorism, NOUN, False, False\n"
     ]
    }
   ],
   "source": [
    "import utils\n",
    "\n",
    "t = \"I ate food grasiously. He has eaten. She eats. They eat\\nThere was terror. Terrorism is bad. There were terrorists.\"\n",
    "lemmas = utils.get(text)\n",
    "print(lemmas)\n",
    "for l in lemmas:\n",
    "    print(f\"{l.lemma_}, {l.pos_}, {l.is_stop}, {l.is_punct}\")"
   ]
  }
 ],
 "metadata": {
  "kernelspec": {
   "display_name": "UdoScraper",
   "language": "python",
   "name": "python3"
  },
  "language_info": {
   "codemirror_mode": {
    "name": "ipython",
    "version": 3
   },
   "file_extension": ".py",
   "mimetype": "text/x-python",
   "name": "python",
   "nbconvert_exporter": "python",
   "pygments_lexer": "ipython3",
   "version": "3.11.3"
  }
 },
 "nbformat": 4,
 "nbformat_minor": 2
}
