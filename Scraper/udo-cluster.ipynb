{
 "cells": [
  {
   "cell_type": "markdown",
   "metadata": {},
   "source": []
  },
  {
   "cell_type": "code",
   "execution_count": 16,
   "metadata": {
    "ExecuteTime": {
     "end_time": "2023-11-05T18:58:16.236163500Z",
     "start_time": "2023-11-05T18:58:13.949350600Z"
    }
   },
   "outputs": [],
   "source": [
    "## Initialize\n",
    "import requests\n",
    "import json\n",
    "from multiprocessing import Pool\n",
    "from tqdm.notebook import tqdm\n",
    "import utils\n",
    "\n",
    "apiKey = \"hTLGygty2Sj5IB368rcArA63Xu29hW2r\"\n",
    "archiveUrl = f\"https://api.nytimes.com/svc/archive/v1/#1/#2.json?api-key={apiKey}\"\n",
    "\n",
    "# Example text\n",
    "text = \"German Chancellor Angela Merkel died in 1936 in New York. She got shot by a mysterious terrorist, terror, terrorism\""
   ]
  },
  {
   "cell_type": "code",
   "execution_count": 17,
   "metadata": {
    "ExecuteTime": {
     "end_time": "2023-11-05T18:58:18.994163200Z",
     "start_time": "2023-11-05T18:58:16.238165Z"
    }
   },
   "outputs": [
    {
     "name": "stdout",
     "output_type": "stream",
     "text": [
      "https://api.nytimes.com/svc/archive/v1/1963/10.json?api-key=hTLGygty2Sj5IB368rcArA63Xu29hW2r\n"
     ]
    }
   ],
   "source": [
    "## Fetch\n",
    "\n",
    "requestUrl = archiveUrl.replace(\"#1\", \"1963\").replace(\"#2\", \"10\")\n",
    "print(requestUrl)\n",
    "res = requests.get(requestUrl)\n",
    "obj = json.loads(res.text)"
   ]
  },
  {
   "cell_type": "code",
   "execution_count": 19,
   "metadata": {
    "ExecuteTime": {
     "start_time": "2023-11-05T19:01:36.217330200Z"
    },
    "collapsed": false,
    "is_executing": true
   },
   "outputs": [
    {
     "data": {
      "application/vnd.jupyter.widget-view+json": {
       "model_id": "3355d9eb0a484719ba92e19c5c7e76bb",
       "version_major": 2,
       "version_minor": 0
      },
      "text/plain": [
       "Going through articles:   0%|          | 0/11585 [00:00<?, ?it/s]"
      ]
     },
     "metadata": {},
     "output_type": "display_data"
    },
    {
     "ename": "KeyboardInterrupt",
     "evalue": "",
     "output_type": "error",
     "traceback": [
      "\u001b[1;31m---------------------------------------------------------------------------\u001b[0m",
      "\u001b[1;31mIndexError\u001b[0m                                Traceback (most recent call last)",
      "File \u001b[1;32mC:\\Python311\\Lib\\multiprocessing\\pool.py:856\u001b[0m, in \u001b[0;36mIMapIterator.next\u001b[1;34m(self, timeout)\u001b[0m\n\u001b[0;32m    855\u001b[0m \u001b[39mtry\u001b[39;00m:\n\u001b[1;32m--> 856\u001b[0m     item \u001b[39m=\u001b[39m \u001b[39mself\u001b[39m\u001b[39m.\u001b[39m_items\u001b[39m.\u001b[39mpopleft()\n\u001b[0;32m    857\u001b[0m \u001b[39mexcept\u001b[39;00m \u001b[39mIndexError\u001b[39;00m:\n",
      "\u001b[1;31mIndexError\u001b[0m: pop from an empty deque",
      "\nDuring handling of the above exception, another exception occurred:\n",
      "\u001b[1;31mKeyboardInterrupt\u001b[0m                         Traceback (most recent call last)",
      "\u001b[1;32mc:\\Users\\schwas28\\Desktop\\BigData\\UdoCluster\\Scraper\\udo-cluster.ipynb Cell 4\u001b[0m line \u001b[0;36m8\n\u001b[0;32m      <a href='vscode-notebook-cell:/c%3A/Users/schwas28/Desktop/BigData/UdoCluster/Scraper/udo-cluster.ipynb#X63sZmlsZQ%3D%3D?line=5'>6</a>\u001b[0m \u001b[39mwith\u001b[39;00m Pool(processes\u001b[39m=\u001b[39m\u001b[39m3\u001b[39m) \u001b[39mas\u001b[39;00m p:\n\u001b[0;32m      <a href='vscode-notebook-cell:/c%3A/Users/schwas28/Desktop/BigData/UdoCluster/Scraper/udo-cluster.ipynb#X63sZmlsZQ%3D%3D?line=6'>7</a>\u001b[0m     \u001b[39mwith\u001b[39;00m tqdm(total\u001b[39m=\u001b[39m\u001b[39mlen\u001b[39m(articles), desc\u001b[39m=\u001b[39m\u001b[39m\"\u001b[39m\u001b[39mGoing through articles\u001b[39m\u001b[39m\"\u001b[39m) \u001b[39mas\u001b[39;00m pbar:\n\u001b[1;32m----> <a href='vscode-notebook-cell:/c%3A/Users/schwas28/Desktop/BigData/UdoCluster/Scraper/udo-cluster.ipynb#X63sZmlsZQ%3D%3D?line=7'>8</a>\u001b[0m         \u001b[39mfor\u001b[39;49;00m res \u001b[39min\u001b[39;49;00m p\u001b[39m.\u001b[39;49mimap_unordered(utils\u001b[39m.\u001b[39;49mparseArticle, articles):\n\u001b[0;32m      <a href='vscode-notebook-cell:/c%3A/Users/schwas28/Desktop/BigData/UdoCluster/Scraper/udo-cluster.ipynb#X63sZmlsZQ%3D%3D?line=8'>9</a>\u001b[0m             articleWordCount\u001b[39m.\u001b[39;49mappend(res)\n\u001b[0;32m     <a href='vscode-notebook-cell:/c%3A/Users/schwas28/Desktop/BigData/UdoCluster/Scraper/udo-cluster.ipynb#X63sZmlsZQ%3D%3D?line=9'>10</a>\u001b[0m             pbar\u001b[39m.\u001b[39;49mupdate()\n",
      "File \u001b[1;32mC:\\Python311\\Lib\\multiprocessing\\pool.py:861\u001b[0m, in \u001b[0;36mIMapIterator.next\u001b[1;34m(self, timeout)\u001b[0m\n\u001b[0;32m    859\u001b[0m     \u001b[39mself\u001b[39m\u001b[39m.\u001b[39m_pool \u001b[39m=\u001b[39m \u001b[39mNone\u001b[39;00m\n\u001b[0;32m    860\u001b[0m     \u001b[39mraise\u001b[39;00m \u001b[39mStopIteration\u001b[39;00m \u001b[39mfrom\u001b[39;00m \u001b[39mNone\u001b[39;00m\n\u001b[1;32m--> 861\u001b[0m \u001b[39mself\u001b[39;49m\u001b[39m.\u001b[39;49m_cond\u001b[39m.\u001b[39;49mwait(timeout)\n\u001b[0;32m    862\u001b[0m \u001b[39mtry\u001b[39;00m:\n\u001b[0;32m    863\u001b[0m     item \u001b[39m=\u001b[39m \u001b[39mself\u001b[39m\u001b[39m.\u001b[39m_items\u001b[39m.\u001b[39mpopleft()\n",
      "File \u001b[1;32mC:\\Python311\\Lib\\threading.py:320\u001b[0m, in \u001b[0;36mCondition.wait\u001b[1;34m(self, timeout)\u001b[0m\n\u001b[0;32m    318\u001b[0m \u001b[39mtry\u001b[39;00m:    \u001b[39m# restore state no matter what (e.g., KeyboardInterrupt)\u001b[39;00m\n\u001b[0;32m    319\u001b[0m     \u001b[39mif\u001b[39;00m timeout \u001b[39mis\u001b[39;00m \u001b[39mNone\u001b[39;00m:\n\u001b[1;32m--> 320\u001b[0m         waiter\u001b[39m.\u001b[39;49macquire()\n\u001b[0;32m    321\u001b[0m         gotit \u001b[39m=\u001b[39m \u001b[39mTrue\u001b[39;00m\n\u001b[0;32m    322\u001b[0m     \u001b[39melse\u001b[39;00m:\n",
      "\u001b[1;31mKeyboardInterrupt\u001b[0m: "
     ]
    }
   ],
   "source": [
    "## Search\n",
    "\n",
    "articles = list(obj[\"response\"][\"docs\"])\n",
    "articleWordCount = []\n",
    "# Most optimal amount of processes may varie depending on your system\n",
    "with Pool(processes=3) as p:\n",
    "    with tqdm(total=len(articles), desc=\"Going through articles\") as pbar:\n",
    "        for res in p.imap_unordered(utils.parseArticle, articles):\n",
    "            articleWordCount.append(res)\n",
    "            pbar.update()"
   ]
  },
  {
   "cell_type": "code",
   "execution_count": null,
   "metadata": {
    "ExecuteTime": {
     "end_time": "2023-11-05T22:51:09.660843Z",
     "start_time": "2023-11-05T22:51:07.913145200Z"
    },
    "collapsed": false
   },
   "outputs": [],
   "source": [
    "## Save results for testing\n",
    "\n",
    "#with open(\"./testfiles/articles.json\", \"w\", encoding=\"utf-8\") as json_file:\n",
    "#    json_file.write(json.dumps(obj, indent=\"\\t\"))\n",
    "with open(\"./testfiles/result.json\", \"w\", encoding=\"utf-8\") as json_file:\n",
    "    json_file.write(json.dumps(articleWordCount, indent=\"\\t\"))"
   ]
  },
  {
   "cell_type": "code",
   "execution_count": null,
   "metadata": {
    "ExecuteTime": {
     "start_time": "2023-11-05T18:59:35.127179Z"
    },
    "collapsed": false
   },
   "outputs": [],
   "source": [
    "import spacy\n",
    "taggers = [{\n",
    "    \"name\": \"Taggers\",\n",
    "    \"values\": [\n",
    "        \"$\", \"''\", \",\", \"-LRB-\", \"-RRB-\", \".\", \":\", \"ADD\", \"AFX\", \"CC\", \"CD\", \"DT\", \"EX\", \"FW\", \"HYPH\", \"IN\", \"JJ\", \"JJR\", \"JJS\", \"LS\", \"MD\", \"NFP\", \"NN\", \"NNP\", \"NNPS\", \"NNS\", \"PDT\", \"POS\", \"PRP\", \"PRP$\", \"RB\", \"RBR\", \"RBS\", \"RP\", \"SYM\", \"TO\", \"UH\", \"VB\", \"VBD\", \"VBG\", \"VBN\", \"VBP\", \"VBZ\", \"WDT\", \"WP\", \"WP$\", \"WRB\", \"XX\", \"_SP\", \"``\"\n",
    "    ]\n",
    "}]\n",
    "\n",
    "for tagger in taggers:\n",
    "    print(f\"---------{tagger['name']}----------\")\n",
    "    for tag in tagger[\"values\"]:\n",
    "        print(f\"{tag}: {spacy.explain(tag)}\")"
   ]
  }
 ],
 "metadata": {
  "kernelspec": {
   "display_name": "Python 3",
   "language": "python",
   "name": "python3"
  },
  "language_info": {
   "codemirror_mode": {
    "name": "ipython",
    "version": 3
   },
   "file_extension": ".py",
   "mimetype": "text/x-python",
   "name": "python",
   "nbconvert_exporter": "python",
   "pygments_lexer": "ipython3",
   "version": "3.11.0"
  }
 },
 "nbformat": 4,
 "nbformat_minor": 2
}
